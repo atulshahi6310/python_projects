{
 "cells": [
  {
   "cell_type": "markdown",
   "id": "96eb361d-a58c-4be3-a8ba-f7a5c7e9f404",
   "metadata": {},
   "source": [
    "# practice project of Python - decorator"
   ]
  },
  {
   "cell_type": "markdown",
   "id": "6be58444-8103-4a76-bdf8-38386550a9a7",
   "metadata": {},
   "source": [
    "## --------------------------------- Attendance Checking  ----------------------------------"
   ]
  },
  {
   "cell_type": "code",
   "execution_count": 49,
   "id": "9cf525dd-4ebc-43dc-b40d-9ec7265a50f0",
   "metadata": {},
   "outputs": [],
   "source": [
    "def attendance_cheaker (func):\n",
    "  attandence  = {}\n",
    "  def wrapper(*args):\n",
    "    attendance_percentage = args[0]  \n",
    "    func(*args)  \n",
    "    if attendance_percentage < 60 :\n",
    "      print(\"Detained: Give valid reason for absence.\")\n",
    "    elif attendance_percentage < 75 :\n",
    "      print(\"Detained:  able to give exam with valid reson \")\n",
    "    else:\n",
    "      print(\"Allowed to give exam.\")\n",
    "  return wrapper"
   ]
  },
  {
   "cell_type": "code",
   "execution_count": 55,
   "id": "4e09a898-3e53-45f2-877e-85c28cca432f",
   "metadata": {},
   "outputs": [
    {
     "name": "stdin",
     "output_type": "stream",
     "text": [
      "total number of student: 2\n",
      "Enter total attendance percentage:  88\n",
      "Enter total attendance percentage:  79\n"
     ]
    }
   ],
   "source": [
    "x = int(input(\"total number of student:\"))\n",
    "list_attendance = [int(input(\"Enter total attendance percentage: \")) for i in range(x)]\n",
    "raange = len(list_attendance)"
   ]
  },
  {
   "cell_type": "code",
   "execution_count": 60,
   "id": "c0694f90-27ac-4707-9830-6d567e7d194c",
   "metadata": {},
   "outputs": [
    {
     "name": "stdout",
     "output_type": "stream",
     "text": [
      "________________________________________________________________________\n",
      "Student roll number 1 with 88% attendance\n",
      "Allowed to give exam.\n",
      "__________________________________________________________________________\n",
      "________________________________________________________________________\n",
      "Student roll number 2 with 79% attendance\n",
      "Allowed to give exam.\n",
      "__________________________________________________________________________\n"
     ]
    }
   ],
   "source": [
    "@attendance_cheaker\n",
    "def student(attendance, roll_number):\n",
    "  print(f\"Student roll number {roll_number +1} with {attendance}% attendance\")\n",
    "\n",
    "for i in range(raange):\n",
    "    print(\"________________________________________________________________________\")\n",
    "    rollNUmber = i\n",
    "    attendance = list_attendance[i]\n",
    "    student(attendance, i) \n",
    "    print(\"__________________________________________________________________________\");"
   ]
  },
  {
   "cell_type": "code",
   "execution_count": null,
   "id": "94cf910d-27e9-4501-9c0f-aaa255a9798b",
   "metadata": {},
   "outputs": [],
   "source": []
  },
  {
   "cell_type": "code",
   "execution_count": null,
   "id": "7e8cce0d-e876-4a3e-a008-ae8fcaa6260f",
   "metadata": {},
   "outputs": [],
   "source": []
  }
 ],
 "metadata": {
  "kernelspec": {
   "display_name": "Python 3 (ipykernel)",
   "language": "python",
   "name": "python3"
  },
  "language_info": {
   "codemirror_mode": {
    "name": "ipython",
    "version": 3
   },
   "file_extension": ".py",
   "mimetype": "text/x-python",
   "name": "python",
   "nbconvert_exporter": "python",
   "pygments_lexer": "ipython3",
   "version": "3.13.5"
  }
 },
 "nbformat": 4,
 "nbformat_minor": 5
}
