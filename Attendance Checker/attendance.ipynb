{
 "cells": [
  {
   "cell_type": "markdown",
   "id": "96eb361d-a58c-4be3-a8ba-f7a5c7e9f404",
   "metadata": {},
   "source": [
    "# practice project of Python - decorator"
   ]
  },
  {
   "cell_type": "markdown",
   "id": "6be58444-8103-4a76-bdf8-38386550a9a7",
   "metadata": {},
   "source": [
    "## --------------------------------- Attendance Checking  ----------------------------------"
   ]
  },
  {
   "cell_type": "code",
   "execution_count": 45,
   "id": "9cf525dd-4ebc-43dc-b40d-9ec7265a50f0",
   "metadata": {},
   "outputs": [],
   "source": [
    "def attendance_cheaker (func):\n",
    "  attandence  = {}\n",
    "  def wrapper(*args):\n",
    "    attendance_percentage = args[0]  \n",
    "    func(*args)  \n",
    "    if attendance_percentage < 60 :\n",
    "      print(\"Detained: Give valid reason for absence.\")\n",
    "    elif attendance_percentage < 75 :\n",
    "      print(\"Detained:  able to give exam with valid reson \")\n",
    "    else:\n",
    "      print(\"Allowed to give exam.\")\n",
    "  return wrapper"
   ]
  },
  {
   "cell_type": "code",
   "execution_count": 47,
   "id": "10f57ca2-5270-47c0-a3b4-0b5da0fef1b8",
   "metadata": {},
   "outputs": [
    {
     "name": "stdin",
     "output_type": "stream",
     "text": [
      "total number of student: 5\n",
      "Enter roll number:  88\n",
      "Enter roll number:  79\n",
      "Enter roll number:  98\n",
      "Enter roll number:  88\n",
      "Enter roll number:  25\n"
     ]
    }
   ],
   "source": [
    "x = int(input(\"total number of student:\"))\n",
    "list_attendance = [int(input(\"Enter roll number: \")) for i in range(x)]\n",
    "raange = len(list_attendance)"
   ]
  },
  {
   "cell_type": "code",
   "execution_count": 48,
   "id": "c0694f90-27ac-4707-9830-6d567e7d194c",
   "metadata": {},
   "outputs": [
    {
     "name": "stdout",
     "output_type": "stream",
     "text": [
      "________________________________________________________________________\n",
      "Student roll number 0 with 88% attendance\n",
      "Allowed to give exam.\n",
      "__________________________________________________________________________\n",
      "________________________________________________________________________\n",
      "Student roll number 1 with 79% attendance\n",
      "Allowed to give exam.\n",
      "__________________________________________________________________________\n",
      "________________________________________________________________________\n",
      "Student roll number 2 with 98% attendance\n",
      "Allowed to give exam.\n",
      "__________________________________________________________________________\n",
      "________________________________________________________________________\n",
      "Student roll number 3 with 88% attendance\n",
      "Allowed to give exam.\n",
      "__________________________________________________________________________\n",
      "________________________________________________________________________\n",
      "Student roll number 4 with 25% attendance\n",
      "Detained: Give valid reason for absence.\n",
      "__________________________________________________________________________\n"
     ]
    }
   ],
   "source": [
    "@attendance_cheaker\n",
    "def student(attendance, roll_number):\n",
    "  print(f\"Student roll number {roll_number} with {attendance}% attendance\")\n",
    "\n",
    "for i in range(raange):\n",
    "    print(\"________________________________________________________________________\")\n",
    "    rollNUmber = i\n",
    "    attendance = list_attendance[i]\n",
    "    student(attendance, i) \n",
    "    print(\"__________________________________________________________________________\");"
   ]
  }
 ],
 "metadata": {
  "kernelspec": {
   "display_name": "Python 3 (ipykernel)",
   "language": "python",
   "name": "python3"
  },
  "language_info": {
   "codemirror_mode": {
    "name": "ipython",
    "version": 3
   },
   "file_extension": ".py",
   "mimetype": "text/x-python",
   "name": "python",
   "nbconvert_exporter": "python",
   "pygments_lexer": "ipython3",
   "version": "3.13.5"
  }
 },
 "nbformat": 4,
 "nbformat_minor": 5
}
